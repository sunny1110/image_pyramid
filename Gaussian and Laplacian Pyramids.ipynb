{
 "cells": [
  {
   "cell_type": "code",
   "execution_count": 26,
   "metadata": {},
   "outputs": [],
   "source": [
    "import os\n",
    "import numpy as np\n",
    "import cv2"
   ]
  },
  {
   "cell_type": "markdown",
   "metadata": {},
   "source": [
    "<h1> Gaussian and Laplacian Pyramids </h1>\n",
    "<p> In this notebook we will be implementing a Gaussian and a Laplacian Pyramid. </p>\n",
    "<p> For testing purposes we will be picking up our image from the \"seed_images\" folder. If you want to run this experiment for another image, store your test image in that folder and call the method readImage with the name of your image.</p>"
   ]
  },
  {
   "cell_type": "code",
   "execution_count": 27,
   "metadata": {},
   "outputs": [],
   "source": [
    "def readImage(imageName):\n",
    "    return cv2.imread(\"./seed_images/\"+imageName)"
   ]
  },
  {
   "cell_type": "markdown",
   "metadata": {},
   "source": [
    "<p> We also define a method to store our results into as follows: </p>"
   ]
  },
  {
   "cell_type": "code",
   "execution_count": 28,
   "metadata": {},
   "outputs": [],
   "source": [
    "def createFolder(name):\n",
    "    try:\n",
    "        os.mkdir(name)\n",
    "        print(\"Created folder with the name \\\"{}\\\"\".format(name))\n",
    "        return name\n",
    "    except:\n",
    "        print(\"Folder \\\"{}\\\" already exists!\".format(name))"
   ]
  },
  {
   "cell_type": "code",
   "execution_count": 29,
   "metadata": {},
   "outputs": [],
   "source": [
    "def createResultFolders(imageName):\n",
    "    name = \"./results/\"+imageName.split(\".\")[0]+\"_results\"\n",
    "    createFolder(name)\n",
    "    createFolder(name+\"/gaussian_pyramid\")\n",
    "    createFolder(name+\"/laplacian_pyramid\")\n",
    "    createFolder(name+\"/log_pyramid\")\n",
    "    return name"
   ]
  },
  {
   "cell_type": "markdown",
   "metadata": {},
   "source": [
    "<p> Change the name of imageName to your image name to test for an image of your choice </p>"
   ]
  },
  {
   "cell_type": "code",
   "execution_count": 30,
   "metadata": {},
   "outputs": [
    {
     "name": "stdout",
     "output_type": "stream",
     "text": [
      "Folder \"./results/messi_results\" already exists!\n",
      "Folder \"./results/messi_results/gaussian_pyramid\" already exists!\n",
      "Folder \"./results/messi_results/laplacian_pyramid\" already exists!\n",
      "Created folder with the name \"./results/messi_results/log_pyramid\"\n"
     ]
    }
   ],
   "source": [
    "#imageName = \"your_image_name\"\n",
    "imageName=\"messi.jpg\"\n",
    "image = readImage(imageName)\n",
    "imageLabel = imageName.split(\".\")[0]\n",
    "folderName = createResultFolders(imageName)"
   ]
  },
  {
   "cell_type": "markdown",
   "metadata": {},
   "source": [
    "<p> Before we go ahead and perform any of our operations, we first check the type of image we've read. If it's a coloured image (RGB), we convert it to Greyscale Image, if not, we proceed to the next step. </p>"
   ]
  },
  {
   "cell_type": "markdown",
   "metadata": {},
   "source": [
    "</br>\n",
    "<p> First we define our RGB to Greyscale Function </p>\n",
    "<p> We convert RGB to Greyscale with the following Equation:<p> </br> \n",
    "<p>New grayscale image = <i>((0.3*R) + (0.59*G) + (0.11*B))</i></p>\n",
    "<p> You can read more about it <a href=\"https://www.tutorialspoint.com/dip/grayscale_to_rgb_conversion.htm\"> here </a>. </p>"
   ]
  },
  {
   "cell_type": "code",
   "execution_count": 31,
   "metadata": {},
   "outputs": [],
   "source": [
    "def rgb2gray(image):\n",
    "    r, g, b = image[:, :, 0], image[:, :, 1], image[:, :, 2]\n",
    "    gray = 0.2989 * r + 0.5870 * g + 0.1140 * b\n",
    "    return gray"
   ]
  },
  {
   "cell_type": "markdown",
   "metadata": {},
   "source": [
    "<p> We perform our check on the basis of the number channels in our input image. If we have 3D array, we've received 3 channels RGB, hence we convert it. If not, we've received an already Grayscale image, and hence return it as it is. </p>"
   ]
  },
  {
   "cell_type": "code",
   "execution_count": 32,
   "metadata": {},
   "outputs": [],
   "source": [
    "def convert2GrayScaleIfNeeded(image):\n",
    "    if(len(image.shape)>2):\n",
    "        print(\"Converting to Greyscale..\")\n",
    "        return rgb2gray(image)\n",
    "    else:\n",
    "        print(\"Returning already Grayscale image!\")\n",
    "        return image"
   ]
  },
  {
   "cell_type": "code",
   "execution_count": 33,
   "metadata": {},
   "outputs": [
    {
     "name": "stdout",
     "output_type": "stream",
     "text": [
      "Converting to Greyscale..\n"
     ]
    }
   ],
   "source": [
    "greyImage = convert2GrayScaleIfNeeded(image)"
   ]
  },
  {
   "cell_type": "markdown",
   "metadata": {},
   "source": [
    "<p> Now we're ready to perform the necessary processing to get our Gaussian and Laplacian Pyramids </p>"
   ]
  },
  {
   "cell_type": "markdown",
   "metadata": {},
   "source": [
    "<h2> Helper Functions </h2>\n",
    "<p> Before we jump into building our Gaussian and Laplacian Pyramids we first define a few helper functions that we can call </p>\n",
    "<p> We start off by defining our Gaussian Blur Function in order to get a blurred Image. But before that we first define the Gaussian Kernel, which we will be using as our filter to blur the Images. The design choice we've made here is to use a 3x3 Gaussian Filter. The choice of kernel is as seen below: </p> <br/>\n",
    "<img src=\"kernel.svg\" alt=\"3x3 Gaussan Kernel\"> </img>\n",
    "<br/>\n",
    "<p> You can read more about it <a href = \"https://en.wikipedia.org/wiki/Kernel_(image_processing)\"> here</a>.</p>"
   ]
  },
  {
   "cell_type": "code",
   "execution_count": 34,
   "metadata": {},
   "outputs": [],
   "source": [
    "gaussianKernel = np.array([[1, 2, 1],[ 2, 4, 2], [1, 2, 1]])\n",
    "gaussianScale = 16.0"
   ]
  },
  {
   "cell_type": "markdown",
   "metadata": {},
   "source": [
    "<p> The following Kernel is used for the Laplacian Convolving </p>\n",
    "<img src=\"lapkernel.jpg\" alt=\"3x3 Laplacian Kernel\"> </img>\n",
    "<p>You can read more about it <a href=\"\">here</a>.</p>"
   ]
  },
  {
   "cell_type": "code",
   "execution_count": 35,
   "metadata": {},
   "outputs": [],
   "source": [
    "laplacianKernel = np.array([[0, 1, 0],[ 1, -4, 1], [0, 1, 0]])\n",
    "laplacianScale = 1.0"
   ]
  },
  {
   "cell_type": "markdown",
   "metadata": {},
   "source": [
    "<p> Now we define our Convolve Method </p>"
   ]
  },
  {
   "cell_type": "code",
   "execution_count": 36,
   "metadata": {},
   "outputs": [],
   "source": [
    "def convolve(image, imageFilter, scaleValue):\n",
    "    blurredList = []\n",
    "    for i in range(image.shape[0]):\n",
    "        for j in range(image.shape[1]):\n",
    "            filterPixels = imageFilter[max(0, 1-i):imageFilter.shape[0]+min(0, image.shape[0]-(i+2)), max(0, 1-j):imageFilter.shape[1]+min(0, (image.shape[1]-(j+2)))]\n",
    "            startX = ((j+max(0, 1-j))-1)\n",
    "            startY = ((i+max(0, 1-i))-1)\n",
    "            imagePixels = image[startY:startY+filterPixels.shape[0], startX:startX+filterPixels.shape[1]]\n",
    "            flatImage = np.array(filterPixels).flatten()\n",
    "            flatFilter = np.array(imagePixels).flatten()\n",
    "            blurredPixel = (np.dot(flatImage, flatFilter))/scaleValue\n",
    "            blurredList.append(blurredPixel)\n",
    "    blurredImage = np.array(blurredList).reshape(image.shape)\n",
    "    return blurredImage"
   ]
  },
  {
   "cell_type": "code",
   "execution_count": 37,
   "metadata": {},
   "outputs": [],
   "source": [
    "def gaussianBlur(image):\n",
    "    return convolve(image, gaussianKernel, gaussianScale)"
   ]
  },
  {
   "cell_type": "code",
   "execution_count": 38,
   "metadata": {},
   "outputs": [],
   "source": [
    "def laplacian(image):\n",
    "    return convolve(image, laplacianKernel, laplacianScale)"
   ]
  },
  {
   "cell_type": "markdown",
   "metadata": {},
   "source": [
    "<p> Next, we define a function to scale down the input image that we can make use of to construct the pyramid. The images are scaled down by discarding all the even rows and columns, thus, getting an image 1/4th the size.</p>"
   ]
  },
  {
   "cell_type": "code",
   "execution_count": 39,
   "metadata": {},
   "outputs": [],
   "source": [
    "def scaleDownImage(image):\n",
    "    return image[1:image.shape[0]:2, 1:image.shape[1]:2]"
   ]
  },
  {
   "cell_type": "markdown",
   "metadata": {},
   "source": [
    "<p> We follow this up by defining a function to scale up the image. This is done by injecting rows and columns of zeros after each row and column in the existing image. Then we apply our Gaussian Filter method as defined earlier and Multiply it by 4. </p>"
   ]
  },
  {
   "cell_type": "code",
   "execution_count": 40,
   "metadata": {},
   "outputs": [],
   "source": [
    "def scaleUp(image):\n",
    "    return np.insert(np.insert(image, np.arange(1, image.shape[0]+1), 0, axis=0), np.arange(1, \n",
    "                image.shape[1]+1), 0, axis=1)"
   ]
  },
  {
   "cell_type": "code",
   "execution_count": 41,
   "metadata": {},
   "outputs": [],
   "source": [
    "def scaleUpImage(image):\n",
    "    scaledImage = scaleUp(image)\n",
    "    scaledUpImage = gaussianBlur(scaledImage)*4\n",
    "    return scaledUpImage"
   ]
  },
  {
   "cell_type": "markdown",
   "metadata": {},
   "source": [
    "<p> Lastly we define our \"Difference\" function which we can use to get the Laplacian. We just return the difference of two images. </p>"
   ]
  },
  {
   "cell_type": "code",
   "execution_count": 42,
   "metadata": {},
   "outputs": [],
   "source": [
    "def imageDifference(image_1, image_2):\n",
    "    return np.subtract(image_1[0:image_2.shape[0], :image_2.shape[1]], image_2)"
   ]
  },
  {
   "cell_type": "markdown",
   "metadata": {},
   "source": [
    "<h2>Constructing the Pyramids </h2>"
   ]
  },
  {
   "cell_type": "markdown",
   "metadata": {},
   "source": [
    "<p> With the image pre-processed and helper functions defined, we can finally begin constructing our Gaussian and Laplacian Pyramids </p>"
   ]
  },
  {
   "cell_type": "markdown",
   "metadata": {},
   "source": [
    "<p> We construct our Gaussian And Laplacian Pyramids by doing the following steps: </p>\n",
    "<ol>\n",
    "    <li> Input Image </li>\n",
    "    <li> Blur Image using the Gaussian Blur Function </li>\n",
    "    <li> Scale the Image down</li>\n",
    "    <li> Save the Scaled down image into the results/image_name/gaussian_pyramid Folder </li>\n",
    "    <li> Scale the above image back up </li>\n",
    "    <li> Calculate the difference between the above Blurred, Scaled-Down, Scaled-up Image and the Input Image for the given level </li>\n",
    "    <li> Save the difference into the results/image_name/laplacian_pyramid Folder </li>\n",
    "</ol>\n",
    "<p> We repeat the above steps for N times (defaulted to 5) </p> "
   ]
  },
  {
   "cell_type": "code",
   "execution_count": 45,
   "metadata": {},
   "outputs": [],
   "source": [
    "def constructPyramids(image, imageLabel, folderName, N=5):\n",
    "    levelImage = image\n",
    "    gaussianPath = folderName+\"/gaussian_pyramid/\"+imageLabel+\"_gaussian_level_\"\n",
    "    laplacianPath = folderName+\"/laplacian_pyramid/\"+imageLabel+\"_laplacian_level_\"\n",
    "    logPath = folderName+\"/log_pyramid/\"+imageLabel+\"_log_level_\"\n",
    "    for i in range(N):\n",
    "        blurredLevelImage = gaussianBlur(levelImage)\n",
    "        scaledDownLevelImage = scaleDownImage(blurredLevelImage)\n",
    "        cv2.imwrite(gaussianPath+str(i)+\".jpg\", scaledDownLevelImage)\n",
    "        scaledUpLevelImage = scaleUpImage(scaledDownLevelImage)\n",
    "        differenceImage = imageDifference(levelImage, scaledUpLevelImage)\n",
    "        cv2.imwrite(laplacianPath+str(i)+\".jpg\", differenceImage)\n",
    "        logLevelImage = laplacian(blurredLevelImage)\n",
    "        cv2.imwrite(logPath+str(i)+\".jpg\", logLevelImage)\n",
    "        levelImage = scaledDownLevelImage"
   ]
  },
  {
   "cell_type": "markdown",
   "metadata": {},
   "source": [
    "<p> Finally we can call our \"constructPyramids\" function that makes use of all the helper functions we've defined earlier. You can add an extra parameter to set the number of levels if you want to increase or decrease it. </p>"
   ]
  },
  {
   "cell_type": "code",
   "execution_count": 46,
   "metadata": {},
   "outputs": [],
   "source": [
    "constructPyramids(greyImage, imageLabel, folderName)"
   ]
  },
  {
   "cell_type": "markdown",
   "metadata": {},
   "source": [
    "<p> You can view your results by going to: results/<your_image_name>_results </p>"
   ]
  },
  {
   "cell_type": "markdown",
   "metadata": {},
   "source": [
    "<h1> The End </h1>"
   ]
  }
 ],
 "metadata": {
  "kernelspec": {
   "display_name": "Python 3",
   "language": "python",
   "name": "python3"
  },
  "language_info": {
   "codemirror_mode": {
    "name": "ipython",
    "version": 3
   },
   "file_extension": ".py",
   "mimetype": "text/x-python",
   "name": "python",
   "nbconvert_exporter": "python",
   "pygments_lexer": "ipython3",
   "version": "3.6.5"
  }
 },
 "nbformat": 4,
 "nbformat_minor": 2
}
